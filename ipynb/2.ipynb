{
 "cells": [
  {
   "cell_type": "code",
   "execution_count": 4,
   "metadata": {},
   "outputs": [],
   "source": [
    "import json"
   ]
  },
  {
   "cell_type": "code",
   "execution_count": 11,
   "metadata": {},
   "outputs": [
    {
     "name": "stdout",
     "output_type": "stream",
     "text": [
      "{'SHIFT': 8742, 'REDUCE': 6541, 'OUT': 43394, 'COMPLETE': 929, 'REDUCE-LR': 104, 'COMPLETE-RIGHT': 14}\n",
      "{'SHIFT': 14.63733172593932, 'REDUCE': 10.952046078628356, 'OUT': 72.65755810059608, 'COMPLETE': 1.5554885808050365, 'REDUCE-LR': 0.17413435134954122, 'COMPLETE-RIGHT': 0.02344116268166901}\n"
     ]
    }
   ],
   "source": [
    "filepath = \"../data/ys/actions.jsonl\"\n",
    "actions_counter:dict[str,int] = {}\n",
    "\n",
    "with open(filepath, mode=\"r\", encoding=\"utf-8\") as f:\n",
    "    jsonl_data = [json.loads(l) for l in f.readlines()]\n",
    "    for jsonl in jsonl_data:\n",
    "        wakati = jsonl[\"wakati\"]\n",
    "        labels = jsonl[\"label\"]\n",
    "        actions: list[str] = jsonl[\"actions\"]\n",
    "        # print(labels)\n",
    "        if all(action==\"OUT\" for action in actions):\n",
    "            continue\n",
    "        for action in actions:\n",
    "            actions_counter.setdefault(action,0)\n",
    "            actions_counter[action] += 1\n",
    "print(actions_counter)\n",
    "total_labels:int = sum([count for count in actions_counter.values()])\n",
    "actions_percentage:dict[str,float] = {\n",
    "    action_label: action_counter * 100 / total_labels for action_label,action_counter in actions_counter.items()\n",
    "}\n",
    "print(actions_percentage)\n"
   ]
  },
  {
   "cell_type": "code",
   "execution_count": null,
   "metadata": {},
   "outputs": [],
   "source": []
  }
 ],
 "metadata": {
  "kernelspec": {
   "display_name": "base",
   "language": "python",
   "name": "python3"
  },
  "language_info": {
   "codemirror_mode": {
    "name": "ipython",
    "version": 3
   },
   "file_extension": ".py",
   "mimetype": "text/x-python",
   "name": "python",
   "nbconvert_exporter": "python",
   "pygments_lexer": "ipython3",
   "version": "3.11.4"
  }
 },
 "nbformat": 4,
 "nbformat_minor": 2
}
