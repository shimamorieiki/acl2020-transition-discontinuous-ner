{
 "cells": [
  {
   "cell_type": "code",
   "execution_count": 5,
   "metadata": {},
   "outputs": [],
   "source": [
    "from collections import defaultdict\n",
    "\n",
    "class _NamespaceDependentDefaultDict(defaultdict):\n",
    "    def __init__(self, padded_function, non_padded_function):\n",
    "        # we do not take non_padded_namespaces as a parameter,\n",
    "        # because we consider any namespace whose key name ends with labels or tags as non padded namespace,\n",
    "        # and use padded namespace otherwise\n",
    "        self._padded_function = padded_function\n",
    "        self._non_padded_function = non_padded_function\n",
    "        super(_NamespaceDependentDefaultDict, self).__init__()\n",
    "\n",
    "    def __missing__(self, key):\n",
    "        if any(key.endswith(pattern) for pattern in [\"tags\", \"labels\"]):\n",
    "            value = self._non_padded_function()\n",
    "        else:\n",
    "            value = self._padded_function()\n",
    "        dict.__setitem__(self, key, value)\n",
    "        return value\n",
    "\n",
    "\n",
    "class _ItemToIndexDefaultDict(_NamespaceDependentDefaultDict):\n",
    "    def __init__(self, padding_item, oov_item):\n",
    "        super(_ItemToIndexDefaultDict, self).__init__(\n",
    "            padded_function=lambda: {padding_item: 0, oov_item: 1},\n",
    "            non_padded_function=lambda: {}\n",
    "        )\n",
    "\n",
    "class _IndexToItemDefaultDict(_NamespaceDependentDefaultDict):\n",
    "    def __init__(self, padding_item, oov_item):\n",
    "        super(_IndexToItemDefaultDict, self).__init__(\n",
    "            padded_function=lambda: {0: padding_item, 1: oov_item},\n",
    "            non_padded_function=lambda: {}\n",
    "        )"
   ]
  },
  {
   "cell_type": "code",
   "execution_count": 6,
   "metadata": {},
   "outputs": [],
   "source": [
    "padding_item = \"@@PADDING@@\"\n",
    "oov_item = \"@@UNKNOWN@@\"\n",
    "item_to_index = _ItemToIndexDefaultDict(\n",
    "    padding_item, oov_item\n",
    ")"
   ]
  },
  {
   "cell_type": "code",
   "execution_count": 7,
   "metadata": {},
   "outputs": [
    {
     "name": "stdout",
     "output_type": "stream",
     "text": [
      "{'@@PADDING@@': 0, '@@UNKNOWN@@': 1}\n"
     ]
    }
   ],
   "source": [
    "print(item_to_index[\"a\"])"
   ]
  }
 ],
 "metadata": {
  "kernelspec": {
   "display_name": "base",
   "language": "python",
   "name": "python3"
  },
  "language_info": {
   "codemirror_mode": {
    "name": "ipython",
    "version": 3
   },
   "file_extension": ".py",
   "mimetype": "text/x-python",
   "name": "python",
   "nbconvert_exporter": "python",
   "pygments_lexer": "ipython3",
   "version": "3.11.4"
  }
 },
 "nbformat": 4,
 "nbformat_minor": 2
}
